{
 "metadata": {
  "name": "analysis"
 },
 "nbformat": 3,
 "nbformat_minor": 0,
 "worksheets": [
  {
   "cells": [
    {
     "cell_type": "markdown",
     "metadata": {},
     "source": [
      "RNA-Seq detects many novel splice variants :: Analysis\n",
      "====================================================="
     ]
    },
    {
     "cell_type": "markdown",
     "metadata": {},
     "source": [
      "##Prerequisite\n",
      "\n",
      "Before running the pipeline please make sure all required software are installed.\n",
      "\n",
      "+ Blat\n",
      "+ BLAST+ 2.2.25\n",
      "+ Bowtie2\n",
      "+ Tophat2\n",
      "+ Cufflinks2\n",
      "+ Seqclean\n",
      "+ ESTscan 3.0.3\n",
      "+ Gimme package 0.9 (including Networkx, Pysam, Pygr)\n",
      "+ Python 2.7\n",
      "+ Biopython\n",
      "+ Velvet 1.2.03\n",
      "+ Oases 0.2.06\n",
      "+ CDHIT 4.5.6\n",
      "+ Condetri 2.1\n",
      "+ Samtools 0.1.18"
     ]
    },
    {
     "cell_type": "markdown",
     "metadata": {},
     "source": [
      "Reads Quality Filtering and trimming\n",
      "------------------------------------"
     ]
    },
    {
     "cell_type": "markdown",
     "metadata": {},
     "source": [
      "Reads are trimmed and filtered by condetri version 2.1 with this command and parameters.\n",
      "\n",
      "__$ perl condetri_v2.1.pl -fastq1=line6u.single.fastq -cutfirst 10 -sc=33__\n",
      "\n",
      "__...__"
     ]
    },
    {
     "cell_type": "markdown",
     "metadata": {},
     "source": [
      "Global Assembly\n",
      "---------------"
     ]
    },
    {
     "cell_type": "markdown",
     "metadata": {},
     "source": [
      "Reads are assembled by Velvet 1.2.03 and Oases 0.2.06 with k-mers = 21-31 with default parameters."
     ]
    },
    {
     "cell_type": "markdown",
     "metadata": {},
     "source": [
      "__$ velveth line6u_single_global_trimmed 21,33,2 -fastq -short line6u.single_trim.fastq__\n",
      "\n",
      "__$ velvetg line6u_single_global_trimmed_21 -read_trkg yes__\n",
      "\n",
      "__$ oases line6u_single_global_trimmed_21__\n",
      "\n",
      "__...__"
     ]
    },
    {
     "cell_type": "markdown",
     "metadata": {},
     "source": [
      "Local Assembly\n",
      "--------------"
     ]
    },
    {
     "cell_type": "markdown",
     "metadata": {},
     "source": [
      "Reads are mapped to galGal3 genome by Tophat version 2.0.\n",
      "\n",
      "__$ tophat2 -p 8 -o tophat/line6u_single_trimmed_chick3 ~/chick3_bowtie2 line6u.single_trim.fastq__\n",
      "\n",
      "__...__"
     ]
    },
    {
     "cell_type": "markdown",
     "metadata": {},
     "source": [
      "Then reads mapped to each chromosome are extracted from accepted_hits.bam with the following command.\n",
      "\n",
      "Note, chick3.list.txt is a list of chromosome names without >."
     ]
    },
    {
     "cell_type": "code",
     "collapsed": false,
     "input": [
      "!head -5 chick3.list.txt"
     ],
     "language": "python",
     "metadata": {},
     "outputs": [
      {
       "output_type": "stream",
       "stream": "stdout",
       "text": [
        "chr10\r\n",
        "chr10_random\r\n",
        "chr11\r\n",
        "chr11_random\r\n",
        "chr12\r\n"
       ]
      }
     ],
     "prompt_number": 213
    },
    {
     "cell_type": "markdown",
     "metadata": {},
     "source": [
      "__$ cat chick3.list.txt | xargs -0 -I {} -d \"\\n\" samtools view accepted_hits.bam {} -o {}.sam__"
     ]
    },
    {
     "cell_type": "markdown",
     "metadata": {},
     "source": [
      "chr32.sam, chr11_random.sam and chr12_random.sam are removed from analysis because they have no alignments.\n",
      "\n",
      "Reads mapped to each chromosomes are assembled by Velvet and Oases respectively with __-short -sam__ options."
     ]
    },
    {
     "cell_type": "markdown",
     "metadata": {},
     "source": [
      "Unique sequences between Global and Local assembly\n",
      "------------------------------------------------\n",
      "\n",
      "Reconstructed transcripts from global and local assembly are cleaned and only non-redundant transcripts are compared within datasets."
     ]
    },
    {
     "cell_type": "markdown",
     "metadata": {},
     "source": [
      "__$ seqclean se_6u_local_chick3.fa -c 8__"
     ]
    },
    {
     "cell_type": "markdown",
     "metadata": {},
     "source": [
      "__$ cd-hit-est -T 0 -d 0 -c 1.0 -M 8000 -i se_6u_local_chick3.fa.clean -o se_6u_local_chick3.clean.nr.fa__"
     ]
    },
    {
     "cell_type": "markdown",
     "metadata": {},
     "source": [
      "Unique regions from global and local assembly are found by __assembly-diff-2.py__ from a khmer package."
     ]
    },
    {
     "cell_type": "heading",
     "level": 3,
     "metadata": {},
     "source": [
      "Number of sequences with unique regions"
     ]
    },
    {
     "cell_type": "code",
     "collapsed": false,
     "input": [
      "!grep \">\" se_6u_local_chick3.clean.nr.fa.uniq | sed 's/-/_/' | cut -f 1 -d \"-\" | sort | uniq | wc -l"
     ],
     "language": "python",
     "metadata": {},
     "outputs": [
      {
       "output_type": "stream",
       "stream": "stdout",
       "text": [
        "    1690\r\n"
       ]
      }
     ],
     "prompt_number": 120
    },
    {
     "cell_type": "code",
     "collapsed": false,
     "input": [
      "!grep \">\" se_6i_local_chick3.clean.nr.fa.uniq | sed 's/-/_/' | cut -f 1 -d \"-\" | sort | uniq | wc -l"
     ],
     "language": "python",
     "metadata": {},
     "outputs": [
      {
       "output_type": "stream",
       "stream": "stdout",
       "text": [
        "    2751\r\n"
       ]
      }
     ],
     "prompt_number": 20
    },
    {
     "cell_type": "code",
     "collapsed": false,
     "input": [
      "!grep \">\" se_7u_local_chick3.clean.nr.fa.uniq | sed 's/-/_/' | cut -f 1 -d \"-\" | sort | uniq | wc -l"
     ],
     "language": "python",
     "metadata": {},
     "outputs": [
      {
       "output_type": "stream",
       "stream": "stdout",
       "text": [
        "    2140\r\n"
       ]
      }
     ],
     "prompt_number": 21
    },
    {
     "cell_type": "code",
     "collapsed": false,
     "input": [
      "!grep \">\" se_7i_local_chick3.clean.nr.fa.uniq | sed 's/-/_/' | cut -f 1 -d \"-\" | sort | uniq | wc -l"
     ],
     "language": "python",
     "metadata": {},
     "outputs": [
      {
       "output_type": "stream",
       "stream": "stdout",
       "text": [
        "    1652\r\n"
       ]
      }
     ],
     "prompt_number": 22
    },
    {
     "cell_type": "code",
     "collapsed": false,
     "input": [
      "!grep \">\" se_6u_global.fa.clean.nr.uniq | sed 's/-/_/' | cut -f 1 -d \"-\" | sort | uniq | wc -l"
     ],
     "language": "python",
     "metadata": {},
     "outputs": [
      {
       "output_type": "stream",
       "stream": "stdout",
       "text": [
        "   11496\r\n"
       ]
      }
     ],
     "prompt_number": 25
    },
    {
     "cell_type": "code",
     "collapsed": false,
     "input": [
      "!grep \">\" se_6i_global.fa.clean.nr.uniq | sed 's/-/_/' | cut -f 1 -d \"-\" | sort | uniq | wc -l"
     ],
     "language": "python",
     "metadata": {},
     "outputs": [
      {
       "output_type": "stream",
       "stream": "stdout",
       "text": [
        "   12871\r\n"
       ]
      }
     ],
     "prompt_number": 26
    },
    {
     "cell_type": "code",
     "collapsed": false,
     "input": [
      "!grep \">\" se_7u_global.fa.clean.nr.uniq | sed 's/-/_/' | cut -f 1 -d \"-\" | sort | uniq | wc -l"
     ],
     "language": "python",
     "metadata": {},
     "outputs": [
      {
       "output_type": "stream",
       "stream": "stdout",
       "text": [
        "   11706\r\n"
       ]
      }
     ],
     "prompt_number": 27
    },
    {
     "cell_type": "code",
     "collapsed": false,
     "input": [
      "!grep \">\" se_7i_global.fa.clean.nr.uniq | sed 's/-/_/' | cut -f 1 -d \"-\" | sort | uniq | wc -l"
     ],
     "language": "python",
     "metadata": {},
     "outputs": [
      {
       "output_type": "stream",
       "stream": "stdout",
       "text": [
        "   12962\r\n"
       ]
      }
     ],
     "prompt_number": 28
    },
    {
     "cell_type": "markdown",
     "metadata": {},
     "source": [
      "##Homology search for unique sequences"
     ]
    },
    {
     "cell_type": "markdown",
     "metadata": {},
     "source": [
      "To find if a unique region from global or local assembly are part of a gene, we search for homologous sequences in mouse proteins using BLASTX. To obtain a significant search, we only select unique regions longer than 300bp.\n",
      "\n",
      "A list of matched sequences can be obtained from the following command."
     ]
    },
    {
     "cell_type": "code",
     "collapsed": false,
     "input": [
      "from Bio.Blast import NCBIXML"
     ],
     "language": "python",
     "metadata": {},
     "outputs": [],
     "prompt_number": 214
    },
    {
     "cell_type": "code",
     "collapsed": false,
     "input": [
      "def find_match(xml_file, output_file):\n",
      "    records = NCBIXML.parse(open(xml_file))\n",
      "    op = open(output_file, 'w')\n",
      "    for record in records:\n",
      "        if record.alignments: # if matched,\n",
      "            alm = record.alignments[0]\n",
      "            hsp = alm.hsps[0]\n",
      "            if hsp.expect < 1e-20:\n",
      "                print >> op, '%s\\t%s' % (record.query, alm.title)\n",
      "    op.close()"
     ],
     "language": "python",
     "metadata": {},
     "outputs": [],
     "prompt_number": 221
    },
    {
     "cell_type": "code",
     "collapsed": false,
     "input": [
      "find_match('se_6u_local_chick3.clean.nr.fa.uniq.long.blastx.xml', 'se_6u_local_chick3.longuniq.blastx.out')\n",
      "find_match('se_6i_local_chick3.clean.nr.fa.uniq.long.blastx.xml', 'se_6i_local_chick3.longuniq.blastx.out')\n",
      "find_match('se_7u_local_chick3.clean.nr.fa.uniq.long.blastx.xml', 'se_7u_local_chick3.longuniq.blastx.out')\n",
      "find_match('se_7i_local_chick3.clean.nr.fa.uniq.long.blastx.xml', 'se_7i_local_chick3.longuniq.blastx.out')"
     ],
     "language": "python",
     "metadata": {},
     "outputs": [],
     "prompt_number": 233
    },
    {
     "cell_type": "code",
     "collapsed": false,
     "input": [
      "!wc se_6u_local_chick3.longuniq.blastx.out"
     ],
     "language": "python",
     "metadata": {},
     "outputs": [
      {
       "output_type": "stream",
       "stream": "stdout",
       "text": [
        "      39     318    5031 se_6u_local_chick3.longuniq.blastx.out\r\n"
       ]
      }
     ],
     "prompt_number": 234
    },
    {
     "cell_type": "code",
     "collapsed": false,
     "input": [
      "!wc se_6i_local_chick3.longuniq.blastx.out"
     ],
     "language": "python",
     "metadata": {},
     "outputs": [
      {
       "output_type": "stream",
       "stream": "stdout",
       "text": [
        "      40     370    5460 se_6i_local_chick3.longuniq.blastx.out\r\n"
       ]
      }
     ],
     "prompt_number": 235
    },
    {
     "cell_type": "code",
     "collapsed": false,
     "input": [
      "!wc se_7u_local_chick3.longuniq.blastx.out"
     ],
     "language": "python",
     "metadata": {},
     "outputs": [
      {
       "output_type": "stream",
       "stream": "stdout",
       "text": [
        "      52     438    6768 se_7u_local_chick3.longuniq.blastx.out\r\n"
       ]
      }
     ],
     "prompt_number": 236
    },
    {
     "cell_type": "code",
     "collapsed": false,
     "input": [
      "!wc se_7i_local_chick3.longuniq.blastx.out"
     ],
     "language": "python",
     "metadata": {},
     "outputs": [
      {
       "output_type": "stream",
       "stream": "stdout",
       "text": [
        "      50     430    6523 se_7i_local_chick3.longuniq.blastx.out\r\n"
       ]
      }
     ],
     "prompt_number": 237
    },
    {
     "cell_type": "code",
     "collapsed": false,
     "input": [
      "!grep \">\" se_6u_local_chick3.clean.nr.fa.uniq.long | wc"
     ],
     "language": "python",
     "metadata": {},
     "outputs": [
      {
       "output_type": "stream",
       "stream": "stdout",
       "text": [
        "     104     104    5000\r\n"
       ]
      }
     ],
     "prompt_number": 257
    },
    {
     "cell_type": "code",
     "collapsed": false,
     "input": [
      "!grep \">\" se_6i_local_chick3.clean.nr.fa.uniq.long | wc"
     ],
     "language": "python",
     "metadata": {},
     "outputs": [
      {
       "output_type": "stream",
       "stream": "stdout",
       "text": [
        "     104     104    5015\r\n"
       ]
      }
     ],
     "prompt_number": 258
    },
    {
     "cell_type": "code",
     "collapsed": false,
     "input": [
      "!grep \">\" se_7u_local_chick3.clean.nr.fa.uniq.long | wc"
     ],
     "language": "python",
     "metadata": {},
     "outputs": [
      {
       "output_type": "stream",
       "stream": "stdout",
       "text": [
        "     136     136    6523\r\n"
       ]
      }
     ],
     "prompt_number": 259
    },
    {
     "cell_type": "code",
     "collapsed": false,
     "input": [
      "!grep \">\" se_7i_local_chick3.clean.nr.fa.uniq.long | wc"
     ],
     "language": "python",
     "metadata": {},
     "outputs": [
      {
       "output_type": "stream",
       "stream": "stdout",
       "text": [
        "     152     152    7322\r\n"
       ]
      }
     ],
     "prompt_number": 260
    },
    {
     "cell_type": "code",
     "collapsed": false,
     "input": [
      "print \"%.2f unique sequences from line6u local assembly match mouse proteins.\" % (39/104.0 * 100)"
     ],
     "language": "python",
     "metadata": {},
     "outputs": [
      {
       "output_type": "stream",
       "stream": "stdout",
       "text": [
        "37.50 unique sequences from line6u local assembly match mouse proteins."
       ]
      },
      {
       "output_type": "stream",
       "stream": "stdout",
       "text": [
        "\n"
       ]
      }
     ],
     "prompt_number": 261
    },
    {
     "cell_type": "code",
     "collapsed": false,
     "input": [
      "print \"%.2f unique sequences from line6i local assembly match mouse proteins.\" % (40/104.0 * 100)"
     ],
     "language": "python",
     "metadata": {},
     "outputs": [
      {
       "output_type": "stream",
       "stream": "stdout",
       "text": [
        "38.46 unique sequences from line6i local assembly match mouse proteins.\n"
       ]
      }
     ],
     "prompt_number": 262
    },
    {
     "cell_type": "code",
     "collapsed": false,
     "input": [
      "print \"%.2f unique sequences from line7u local assembly match mouse proteins.\" % (52/136.0 * 100)"
     ],
     "language": "python",
     "metadata": {},
     "outputs": [
      {
       "output_type": "stream",
       "stream": "stdout",
       "text": [
        "38.24 unique sequences from line7u local assembly match mouse proteins.\n"
       ]
      }
     ],
     "prompt_number": 263
    },
    {
     "cell_type": "code",
     "collapsed": false,
     "input": [
      "print \"%.2f unique sequences from line7i local assembly match mouse proteins.\" % (50/152.0 * 100)"
     ],
     "language": "python",
     "metadata": {},
     "outputs": [
      {
       "output_type": "stream",
       "stream": "stdout",
       "text": [
        "32.89 unique sequences from line7i local assembly match mouse proteins.\n"
       ]
      }
     ],
     "prompt_number": 264
    },
    {
     "cell_type": "code",
     "collapsed": false,
     "input": [
      "find_match('se_6u_global.fa.clean.nr.uniq.long.blastx.xml', 'se_6u_global.longuniq.blastx.out')"
     ],
     "language": "python",
     "metadata": {},
     "outputs": [],
     "prompt_number": 242
    },
    {
     "cell_type": "code",
     "collapsed": false,
     "input": [
      "find_match('se_6i_global.fa.clean.nr.uniq.long.blastx.xml', 'se_6i_global.longuniq.blastx.out')"
     ],
     "language": "python",
     "metadata": {},
     "outputs": [],
     "prompt_number": 239
    },
    {
     "cell_type": "code",
     "collapsed": false,
     "input": [
      "find_match('se_7u_global.fa.clean.nr.uniq.long.blastx.xml', 'se_7u_global.longuniq.blastx.out')"
     ],
     "language": "python",
     "metadata": {},
     "outputs": [],
     "prompt_number": 240
    },
    {
     "cell_type": "code",
     "collapsed": false,
     "input": [
      "find_match('se_7i_global.fa.clean.nr.uniq.long.blastx.xml', 'se_7i_global.longuniq.blastx.out')"
     ],
     "language": "python",
     "metadata": {},
     "outputs": [],
     "prompt_number": 241
    },
    {
     "cell_type": "code",
     "collapsed": false,
     "input": [
      "!wc se_6u_global.longuniq.blastx.out"
     ],
     "language": "python",
     "metadata": {},
     "outputs": [
      {
       "output_type": "stream",
       "stream": "stdout",
       "text": [
        "    1322   11331  163078 se_6u_global.longuniq.blastx.out\r\n"
       ]
      }
     ],
     "prompt_number": 243
    },
    {
     "cell_type": "code",
     "collapsed": false,
     "input": [
      "!wc se_6i_global.longuniq.blastx.out"
     ],
     "language": "python",
     "metadata": {},
     "outputs": [
      {
       "output_type": "stream",
       "stream": "stdout",
       "text": [
        "    1514   12837  185926 se_6i_global.longuniq.blastx.out\r\n"
       ]
      }
     ],
     "prompt_number": 246
    },
    {
     "cell_type": "code",
     "collapsed": false,
     "input": [
      "!wc se_7u_global.longuniq.blastx.out"
     ],
     "language": "python",
     "metadata": {},
     "outputs": [
      {
       "output_type": "stream",
       "stream": "stdout",
       "text": [
        "    1560   13293  192083 se_7u_global.longuniq.blastx.out\r\n"
       ]
      }
     ],
     "prompt_number": 247
    },
    {
     "cell_type": "code",
     "collapsed": false,
     "input": [
      "!wc se_7i_global.longuniq.blastx.out"
     ],
     "language": "python",
     "metadata": {},
     "outputs": [
      {
       "output_type": "stream",
       "stream": "stdout",
       "text": [
        "    1390   11810  170384 se_7i_global.longuniq.blastx.out\r\n"
       ]
      }
     ],
     "prompt_number": 248
    },
    {
     "cell_type": "code",
     "collapsed": false,
     "input": [
      "!grep \">\" se_6u_global.fa.clean.nr.uniq.long | wc"
     ],
     "language": "python",
     "metadata": {},
     "outputs": [
      {
       "output_type": "stream",
       "stream": "stdout",
       "text": [
        "    2132    2132   87021\r\n"
       ]
      }
     ],
     "prompt_number": 244
    },
    {
     "cell_type": "code",
     "collapsed": false,
     "input": [
      "!grep \">\" se_6i_global.fa.clean.nr.uniq.long | wc"
     ],
     "language": "python",
     "metadata": {},
     "outputs": [
      {
       "output_type": "stream",
       "stream": "stdout",
       "text": [
        "    2499    2499  101934\r\n"
       ]
      }
     ],
     "prompt_number": 249
    },
    {
     "cell_type": "code",
     "collapsed": false,
     "input": [
      "!grep \">\" se_7u_global.fa.clean.nr.uniq.long | wc"
     ],
     "language": "python",
     "metadata": {},
     "outputs": [
      {
       "output_type": "stream",
       "stream": "stdout",
       "text": [
        "    2633    2633  107417\r\n"
       ]
      }
     ],
     "prompt_number": 250
    },
    {
     "cell_type": "code",
     "collapsed": false,
     "input": [
      "!grep \">\" se_7i_global.fa.clean.nr.uniq.long | wc"
     ],
     "language": "python",
     "metadata": {},
     "outputs": [
      {
       "output_type": "stream",
       "stream": "stdout",
       "text": [
        "    2409    2409   98346\r\n"
       ]
      }
     ],
     "prompt_number": 251
    },
    {
     "cell_type": "code",
     "collapsed": false,
     "input": [
      "print \"%.2f unique sequences from line6u global assembly match mouse proteins.\" % (1322/2132.0 * 100)"
     ],
     "language": "python",
     "metadata": {},
     "outputs": [
      {
       "output_type": "stream",
       "stream": "stdout",
       "text": [
        "62.01 unique sequences from line6u global assembly match mouse proteins."
       ]
      },
      {
       "output_type": "stream",
       "stream": "stdout",
       "text": [
        "\n"
       ]
      }
     ],
     "prompt_number": 245
    },
    {
     "cell_type": "code",
     "collapsed": false,
     "input": [
      "print \"%.2f unique sequences from line6i global assembly match mouse proteins.\" % (1514/2499.0 * 100)"
     ],
     "language": "python",
     "metadata": {},
     "outputs": [
      {
       "output_type": "stream",
       "stream": "stdout",
       "text": [
        "60.58 unique sequences from line6i global assembly match mouse proteins.\n"
       ]
      }
     ],
     "prompt_number": 253
    },
    {
     "cell_type": "code",
     "collapsed": false,
     "input": [
      "print \"%.2f unique sequences from line7u global assembly match mouse proteins.\" % (1560/2633.0 * 100)"
     ],
     "language": "python",
     "metadata": {},
     "outputs": [
      {
       "output_type": "stream",
       "stream": "stdout",
       "text": [
        "59.25 unique sequences from line7u global assembly match mouse proteins.\n"
       ]
      }
     ],
     "prompt_number": 254
    },
    {
     "cell_type": "code",
     "collapsed": false,
     "input": [
      "print \"%.2f unique sequences from line7i global assembly match mouse proteins.\" % (1390/2409.0 * 100)"
     ],
     "language": "python",
     "metadata": {},
     "outputs": [
      {
       "output_type": "stream",
       "stream": "stdout",
       "text": [
        "57.70 unique sequences from line7i global assembly match mouse proteins.\n"
       ]
      }
     ],
     "prompt_number": 255
    },
    {
     "cell_type": "markdown",
     "metadata": {},
     "source": [
      "Gene models construction\n",
      "------------------------"
     ]
    },
    {
     "cell_type": "markdown",
     "metadata": {},
     "source": [
      "Transcripts from all chromosomes are trimmed by seqclean using default parameters as mentioned above.\n",
      "\n",
      "Transcripts from global and local assembly are combined and redundant transcripts are removed by cd-hit-est with following command."
     ]
    },
    {
     "cell_type": "markdown",
     "metadata": {},
     "source": [
      "__$ cd-hit-est -T 0 -d 0 -c 1.0 -M 8000 -i all_single_gl_gal3.clean.fa -o all_single_gl_gal3.clean.nr.fa__"
     ]
    },
    {
     "cell_type": "markdown",
     "metadata": {},
     "source": [
      "Non-redundant transcripts are aligned to chicken genome galGal3 by BLAT with following command."
     ]
    },
    {
     "cell_type": "markdown",
     "metadata": {},
     "source": [
      "__$ blat -t=dna -q=dna -noHead -out=psl -mask=lower -extendThroughN -dots=1000 ~/chick_3.2bit all_single_gl_gal3.clean.nr.fa all_single_gl_gal3.clean.nr.psl__"
     ]
    },
    {
     "cell_type": "markdown",
     "metadata": {},
     "source": [
      "Alignments from BLAT are sorted by name and the best alignment of each transcript is selected."
     ]
    },
    {
     "cell_type": "markdown",
     "metadata": {},
     "source": [
      "__$ sort -k 10 all_single_gl_gal3.clean.nr.psl > all_single_gl_gal3.clean.nr.psl.sorted__\n",
      "\n",
      "__$ pslReps -nohead -singleHit all_single_gl_gal3.clean.nr.psl.sorted all_single_gl_gal3.clean.nr.best.psl info__"
     ]
    },
    {
     "cell_type": "markdown",
     "metadata": {},
     "source": [
      "\"info\" is supposed to be a file that contains repeat info. It is required to run pslReps but just a name of non-existing file will suffice."
     ]
    },
    {
     "cell_type": "markdown",
     "metadata": {},
     "source": [
      "Transcripts are assembled to build gene models using \"Gimme\" with default parameters."
     ]
    },
    {
     "cell_type": "markdown",
     "metadata": {},
     "source": [
      "__$ python ~/gimme/src/gimme.py all_single_gl_gal3.clean.nr.best.psl > gimme.models.bed__"
     ]
    },
    {
     "cell_type": "markdown",
     "metadata": {},
     "source": [
      "To filter out redundant transcripts, we need to first obtain transcripts from gene models.\n",
      "\n",
      "Note, chick.fa is galGal3 genome sequence."
     ]
    },
    {
     "cell_type": "markdown",
     "metadata": {},
     "source": [
      "__$ python ~/gimme/src/utils/get_transcript_seq.py all_single_gl_gal3.models.bed ~/chick.fa > gimme.models.fa__"
     ]
    },
    {
     "cell_type": "markdown",
     "metadata": {},
     "source": [
      "Again, redundant transcripts are removed using cd-hit-est."
     ]
    },
    {
     "cell_type": "markdown",
     "metadata": {},
     "source": [
      "__$ cd-hit-est -T 0 -d 0 -c 1.0 -M 8000 -i all_single_gl_gal4.models.fa -o gimme.models.nr.fa__"
     ]
    },
    {
     "cell_type": "markdown",
     "metadata": {},
     "source": [
      "__$ python ~/gimme/src/utils/cdhit_transcript.py gimme.models.bed gimme.models.nr.fa > gimme.models.filtered.bed__"
     ]
    },
    {
     "cell_type": "markdown",
     "metadata": {},
     "source": [
      "Mapping reads to gene models\n",
      "----------------------------"
     ]
    },
    {
     "cell_type": "markdown",
     "metadata": {},
     "source": [
      "First build bowtie2 index using bowtie-build command. Then run bowtie2 to map reads to gene models."
     ]
    },
    {
     "cell_type": "markdown",
     "metadata": {},
     "source": [
      "Single-end reads."
     ]
    },
    {
     "cell_type": "markdown",
     "metadata": {},
     "source": [
      "__$ bowtie2 -k 20 -p 4 -t -x all_single_gl_gal3.models.filtered -U line6u.single_trim.fastq -S line6u.single.models.multimaps.sam__\n",
      "\n",
      "__...__"
     ]
    },
    {
     "cell_type": "markdown",
     "metadata": {},
     "source": [
      "Paired-end reads."
     ]
    },
    {
     "cell_type": "markdown",
     "metadata": {},
     "source": [
      "__$ bowtie2 -k 20 -p 4 -t --no-mixed -x all_single_gl_gal3.models.filtered -1 line7u.pe.trim_1 -2 line7u.pe.trim_2 -S line7u.paired_only.models.multimaps.sam__\n",
      "\n",
      "__...__"
     ]
    },
    {
     "cell_type": "markdown",
     "metadata": {},
     "source": [
      "Results do include reads mapped discordantly or unpair reads (--no-mixed)."
     ]
    },
    {
     "cell_type": "markdown",
     "metadata": {},
     "source": [
      "###Results\n",
      "\n",
      "####Single-end\n",
      "\n",
      "line6u 18,398,569 mapped reads (78.03%) of 23,579,552 reads.\n",
      "\n",
      "line6i 17,194,894 mapped reads (73.33%) of 23,448,981 reads.\n",
      "\n",
      "line7u 18,148,112 mapped reads (75.85%) of 23,925,809 reads.\n",
      "\n",
      "line7i 19,914,624 mapped reads (78.52%) of 25,362,567 reads."
     ]
    },
    {
     "cell_type": "markdown",
     "metadata": {},
     "source": [
      "####Paired-end\n",
      "line6u 21,641,202 mapped (concordantly) reads (77.65%) of 33,663,877 reads.\n",
      "\n",
      "line6i 18,556,277 mapped (concordantly) reads (77.61%) of 23,908,493 reads.\n",
      "\n",
      "line7u 25,670,333 mapped (concordantly) reads (77.97%) of 32,921,332 reads.\n",
      "\n",
      "line7i 26,988,536 mapped (concordantly) reads (78.27%) of 34,477,835 reads.\n",
      "\n",
      "Note, only reads with a mate are mapped to gene models."
     ]
    },
    {
     "cell_type": "markdown",
     "metadata": {},
     "source": [
      "Splice junctions\n",
      "----------------"
     ]
    },
    {
     "cell_type": "markdown",
     "metadata": {},
     "source": [
      "We can obtain a list of all splice junctions from each dataset with the following Python script."
     ]
    },
    {
     "cell_type": "markdown",
     "metadata": {},
     "source": [
      "__$ python  /Users/Likit/gimme/src/utils/compare_junction.py --all -p est.fa.clean.best.psl__"
     ]
    },
    {
     "cell_type": "markdown",
     "metadata": {},
     "source": [
      "__$ python  /Users/Likit/gimme/src/utils/compare_junction.py --all -p mrna.clean.best.psl__"
     ]
    },
    {
     "cell_type": "markdown",
     "metadata": {},
     "source": [
      "__$ python  /Users/Likit/gimme/src/utils/compare_junction.py --all -b cufflinks.models.bed__"
     ]
    },
    {
     "cell_type": "markdown",
     "metadata": {},
     "source": [
      "__$ python  /Users/Likit/gimme/src/utils/compare_junction.py --all -b gimme.models.filtered.noE64ran.bed__"
     ]
    },
    {
     "cell_type": "markdown",
     "metadata": {},
     "source": [
      "__$ python  /Users/Likit/gimme/src/utils/compare_junction.py --all -b Gallus_gallus.WASHUC2.64.fixed.bed__"
     ]
    },
    {
     "cell_type": "code",
     "collapsed": false,
     "input": [
      "!head -5 est.fa.clean.best.psl_all_sp.txt"
     ],
     "language": "python",
     "metadata": {},
     "outputs": [
      {
       "output_type": "stream",
       "stream": "stdout",
       "text": [
        "chr8:22207365-22207571\r\n",
        "chr4:34143435-34146037\r\n",
        "chr6:37333392-37333837\r\n",
        "chr1:38366001-38366715\r\n",
        "chr2:42668191-42668333\r\n"
       ]
      }
     ],
     "prompt_number": 10
    },
    {
     "cell_type": "markdown",
     "metadata": {},
     "source": [
      "Read all splice junctions from files for comparison."
     ]
    },
    {
     "cell_type": "code",
     "collapsed": false,
     "input": [
      "mrnajnc = !cat mrna.clean.best.psl_all_sp.txt\n",
      "estjnc = !cat est.fa.clean.best.psl_all_sp.txt\n",
      "cuffjnc = !cat cufflinks.models.bed_all_sp.txt\n",
      "gimmejnc = !cat gimme.models.filtered.noE64ran.bed_all_sp.txt\n",
      "ensbljnc = !cat Gallus_gallus.WASHUC2.64.fixed.bed_all_sp.txt"
     ],
     "language": "python",
     "metadata": {},
     "outputs": [],
     "prompt_number": 131
    },
    {
     "cell_type": "code",
     "collapsed": false,
     "input": [
      "mrnajnc = set(mrnajnc)\n",
      "estjnc = set(estjnc)\n",
      "cuffjnc = set(cuffjnc)\n",
      "gimmejnc = set(gimmejnc)\n",
      "ensbljnc = set(ensbljnc)"
     ],
     "language": "python",
     "metadata": {},
     "outputs": [],
     "prompt_number": 315
    },
    {
     "cell_type": "markdown",
     "metadata": {},
     "source": [
      "Total splice junctions"
     ]
    },
    {
     "cell_type": "code",
     "collapsed": false,
     "input": [
      "print \"Total splice junctions from Gimme models = %d\" % len(gimmejnc)\n",
      "print \"Total splice junctions from ESTs = %d\" % len(estjnc)\n",
      "print \"Total splice junctions from Cufflinks = %d\" % len(cuffjnc)\n",
      "print \"Total splice junctions from mRNA = %d\" % len(mrnajnc)\n",
      "print \"Total splice junctions from Ensemble models = %d\" % len(ensbljnc)"
     ],
     "language": "python",
     "metadata": {},
     "outputs": [
      {
       "output_type": "stream",
       "stream": "stdout",
       "text": [
        "Total splice junctions from Gimme models = 103240\n",
        "Total splice junctions from ESTs = 207523\n",
        "Total splice junctions from Cufflinks = 109646\n",
        "Total splice junctions from mRNA = 73992\n",
        "Total splice junctions from Ensemble models = 154245\n"
       ]
      }
     ],
     "prompt_number": 101
    },
    {
     "cell_type": "markdown",
     "metadata": {},
     "source": [
      "Splice junctions supported by either mRNAs or ESTs."
     ]
    },
    {
     "cell_type": "code",
     "collapsed": false,
     "input": [
      "mrnasup = mrnajnc.intersection(gimmejnc)\n",
      "estsup = estjnc.intersection(gimmejnc)\n",
      "mrna_est_sup = mrnasup.union(estsup)\n",
      "print \"Gimme junctions with mRNAs or ESTs support = %d (%.2f%%)\" % (len(mrna_est_sup), len(mrnasup.union(estsup))/float(len(gimmejnc)) * 100)"
     ],
     "language": "python",
     "metadata": {},
     "outputs": [
      {
       "output_type": "stream",
       "stream": "stdout",
       "text": [
        "Gimme junctions with mRNAs or ESTs support = 82908 (80.31%)\n"
       ]
      }
     ],
     "prompt_number": 114
    },
    {
     "cell_type": "markdown",
     "metadata": {},
     "source": [
      "Splice junctions supported by Cufflinks."
     ]
    },
    {
     "cell_type": "code",
     "collapsed": false,
     "input": [
      "cuffsup = cuffjnc.intersection(gimmejnc)\n",
      "print \"Gimme splice junctions found in Cufflinks models = %d (%.2f%%)\" % (len(cuffsup), len(cuffjnc.intersection(gimmejnc))/float(len(gimmejnc)) * 100)"
     ],
     "language": "python",
     "metadata": {},
     "outputs": [
      {
       "output_type": "stream",
       "stream": "stdout",
       "text": [
        "Gimme splice junctions found in Cufflinks models = 89289 (86.49%)\n"
       ]
      }
     ],
     "prompt_number": 116
    },
    {
     "cell_type": "markdown",
     "metadata": {},
     "source": [
      "Splice junctions not supported by Cufflinks but ESTs or mRNAs."
     ]
    },
    {
     "cell_type": "code",
     "collapsed": false,
     "input": [
      "print \"Gimme junctions not found in Cufflinks models but supported by ESTs or mRNAs = %d (%.2f%%)\" % (len(mrna_est_sup.difference(cuffsup)), len(estsup.difference(cuffsup))/float(len(gimmejnc) - len(cuffsup)) * 100)"
     ],
     "language": "python",
     "metadata": {},
     "outputs": [
      {
       "output_type": "stream",
       "stream": "stdout",
       "text": [
        "Gimme junctions not found in Cufflinks models but supported by ESTs or mRNAs = 5565 (37.61%)\n"
       ]
      }
     ],
     "prompt_number": 117
    },
    {
     "cell_type": "markdown",
     "metadata": {},
     "source": [
      "Ensembl junctions detected by Cufflinks and Gimme."
     ]
    },
    {
     "cell_type": "code",
     "collapsed": false,
     "input": [
      "print \"Cufflinks found %d junctions Ensembl models\" % len(cuffjnc.intersection(ensbljnc))\n",
      "print \"Gimme found %d junctions in Ensembl models\" % len(gimmejnc.intersection(ensbljnc))\n",
      "gimme_not_in_ensbl = gimmejnc.difference(ensbljnc)\n",
      "cuff_not_in_ensbl = cuffjnc.difference(ensbljnc)\n",
      "print \"Gimme junctions not in Ensembl but supported by ESTs = %d\" % len(gimme_not_in_ensbl.intersection(estsup))\n",
      "print \"Cufflinks junctions not in Ensembl but supported by ESTs = %d\" % len(cuff_not_in_ensbl.intersection(estsup))"
     ],
     "language": "python",
     "metadata": {},
     "outputs": [
      {
       "output_type": "stream",
       "stream": "stdout",
       "text": [
        "Cufflinks found 89403 junctions Ensembl models\n",
        "Gimme found 81421 junctions in Ensembl models\n",
        "Gimme junctions not in Ensembl but supported by ESTs = 9833"
       ]
      },
      {
       "output_type": "stream",
       "stream": "stdout",
       "text": [
        "\n",
        "Cufflinks junctions not in Ensembl but supported by ESTs = 6444\n"
       ]
      }
     ],
     "prompt_number": 100
    },
    {
     "cell_type": "markdown",
     "metadata": {},
     "source": [
      "###Reads mapped to splice junctions"
     ]
    },
    {
     "cell_type": "markdown",
     "metadata": {},
     "source": [
      "Number of reads mapped to a splice junction is found by the following script.\n",
      "\n",
      "__$ python ~/gimme/src/utils/count_spliced_reads.py gimme.models.filtered.bed line6u.single.models.multimaps.bam > line6u.single.junctions.reads.count.txt__\n",
      "\n",
      "__...__\n",
      "\n",
      "Note, BAM file need to be sorted and indexed."
     ]
    },
    {
     "cell_type": "code",
     "collapsed": false,
     "input": [
      "line6u_cnts = !cat line6u.single.junctions.reads.count.txt\n",
      "line6i_cnts = !cat line6i.single.junctions.reads.count.txt\n",
      "line7u_cnts = !cat line7u.single.junctions.reads.count.txt\n",
      "line7i_cnts = !cat line7i.single.junctions.reads.count.txt"
     ],
     "language": "python",
     "metadata": {},
     "outputs": [],
     "prompt_number": 38
    },
    {
     "cell_type": "code",
     "collapsed": false,
     "input": [
      "junctions = {}\n",
      "for d in [line6u_cnts, line6i_cnts, line7u_cnts, line7i_cnts]:\n",
      "    for item in d:\n",
      "        jnct, cnt = item.split('\\t')\n",
      "        if 'chrE64_random' in jnct:\n",
      "            continue\n",
      "        junctions[jnct] = junctions.get(jnct, 0) + int(cnt)"
     ],
     "language": "python",
     "metadata": {},
     "outputs": [],
     "prompt_number": 46
    },
    {
     "cell_type": "code",
     "collapsed": false,
     "input": [
      "noreads = [(j, c) for j,c in junctions.iteritems() if c == 0]\n",
      "withreads = [(j, c) for j, c in junctions.iteritems() if c > 0]\n",
      "threereads = [(j, c) for j, c in junctions.iteritems() if c > 0 and c <=3]\n",
      "print len(withreads), len(noreads), len(noreads)/float(len(withreads)) * 100.0, '%'\n",
      "print len(withreads), len(threereads), len(threereads)/float(len(withreads)) * 100.0, '%'"
     ],
     "language": "python",
     "metadata": {},
     "outputs": [
      {
       "output_type": "stream",
       "stream": "stdout",
       "text": [
        "104827 248 0.23658027035 %\n",
        "104827 484 0.461713108264 %\n"
       ]
      }
     ],
     "prompt_number": 301
    },
    {
     "cell_type": "code",
     "collapsed": false,
     "input": [
      "from scipy.stats import cumfreq\n",
      "sorted_counts = sorted([v for v in junctions.itervalues()])\n",
      "cumfreqs, lowlim, binsize, extrapoints = cumfreq(sorted_counts, max(sorted_counts))\n",
      "norm_cumfreqs = cumfreqs[:20] / max(cumfreqs)\n",
      "plot(norm_cumfreqs, '.', linewidth=1.5)\n",
      "xlabel('mapped reads')\n",
      "ylabel('splice junction')\n",
      "grid()"
     ],
     "language": "python",
     "metadata": {},
     "outputs": [
      {
       "output_type": "display_data",
       "png": "[encoded data removed]"
      }
     ],
     "prompt_number": 74
    },
    {
     "cell_type": "code",
     "collapsed": false,
     "input": [
      "fourreads = set([j for j, c in junctions.iteritems() if c > 3])"
     ],
     "language": "python",
     "metadata": {},
     "outputs": [],
     "prompt_number": 309
    },
    {
     "cell_type": "code",
     "collapsed": false,
     "input": [
      "print \"%d junctions with ESTs or mRNAs support have four or more reads\" % (len(mrna_est_sup.intersection(fourreads)))"
     ],
     "language": "python",
     "metadata": {},
     "outputs": [
      {
       "output_type": "stream",
       "stream": "stdout",
       "text": [
        "82750 junctions with ESTs or mRNAs support have four or more reads\n"
       ]
      }
     ],
     "prompt_number": 313
    },
    {
     "cell_type": "code",
     "collapsed": false,
     "input": [
      "print \"%d novel junctions with four reads\" % len(gimmejnc.difference(mrna_est_sup).intersection(fourreads))"
     ],
     "language": "python",
     "metadata": {},
     "outputs": [
      {
       "output_type": "stream",
       "stream": "stdout",
       "text": [
        "19891 novel junctions with four reads\n"
       ]
      }
     ],
     "prompt_number": 316
    },
    {
     "cell_type": "markdown",
     "metadata": {},
     "source": [
      "Homology Analysis\n",
      "-----------------"
     ]
    },
    {
     "cell_type": "markdown",
     "metadata": {},
     "source": [
      "Tranlate DNA sequences to protein sequences using ESTscan version 3.0.3. chicken.smat is an HMM matrix built from chicken proteins and etc."
     ]
    },
    {
     "cell_type": "markdown",
     "metadata": {},
     "source": [
      "__$ estscan -M ~/chicken.smat -t all_single_gl_gal3.models.filtered.prot.faa all_single_gl_gal3.models.filtered.fa > all_single_gl_gal3.models.nucl.fna__"
     ]
    },
    {
     "cell_type": "markdown",
     "metadata": {},
     "source": [
      "In total, 94.5% of transcripts are translated to protein sequences by ESTScan."
     ]
    },
    {
     "cell_type": "code",
     "collapsed": false,
     "input": [
      "!grep \">\" gimme.models.filtered.prot.faa | wc -l"
     ],
     "language": "python",
     "metadata": {},
     "outputs": [
      {
       "output_type": "stream",
       "stream": "stdout",
       "text": [
        "   42459\r\n"
       ]
      }
     ],
     "prompt_number": 207
    },
    {
     "cell_type": "markdown",
     "metadata": {},
     "source": [
      "Then search for homologous sequences in mouse proteins using BLASTP."
     ]
    },
    {
     "cell_type": "markdown",
     "metadata": {},
     "source": [
      "__$ blastp -evalue 1e-20 -outfmt 5 -query gimme.models.filtered.prot.faa -db mouse.proteins -out gimme.models.filtered.prot.xml__"
     ]
    },
    {
     "cell_type": "markdown",
     "metadata": {},
     "source": [
      "Where __mouse.proteins__ are mouse proteins database."
     ]
    },
    {
     "cell_type": "markdown",
     "metadata": {},
     "source": [
      "Bitscore/length ratios are calculated from this command."
     ]
    },
    {
     "cell_type": "markdown",
     "metadata": {},
     "source": [
      "__$ python ~/gimme/src/utils/bitscore.py --input gimme.models.filtered.prot.xml --output isoform --evalue 1e-20 > gimme.models.filtered.prot.bits.isoforms.txt__\n",
      "\n",
      "__$ python ~/gimme/src/utils/bitscore.py --input gimme.models.filtered.prot.xml --output gene --evalue 1e-20 > gimme.models.filtered.prot.bits.gene.txt__"
     ]
    },
    {
     "cell_type": "code",
     "collapsed": false,
     "input": [
      "gene_bits = !cut -f 2 gimme.models.filtered.prot.bitscore.gene.noE64ran.txt\n",
      "for i in range(len(gene_bits)):\n",
      "    gene_bits[i] = float(gene_bits[i])"
     ],
     "language": "python",
     "metadata": {},
     "outputs": [],
     "prompt_number": 83
    },
    {
     "cell_type": "code",
     "collapsed": false,
     "input": [
      "isoform_bits = !cut -f 2 gimme.models.filtered.prot.bitscore.isoform.noE64ran.txt\n",
      "for i in range(len(isoform_bits)):\n",
      "    isoform_bits[i] = float(isoform_bits[i])"
     ],
     "language": "python",
     "metadata": {},
     "outputs": [],
     "prompt_number": 82
    },
    {
     "cell_type": "code",
     "collapsed": false,
     "input": [
      "fig = figure()\n",
      "ax1 = fig.add_subplot(211)\n",
      "ax1.hist(gene_bits, bins=100)\n",
      "ax1.set_ylabel('gene')\n",
      "ax2 = fig.add_subplot(212)\n",
      "ax2.hist(isoform_bits, bins=100, color='g')\n",
      "ax2.set_xlabel('bitscore/length')\n",
      "ax2.set_ylabel('isoform')\n",
      "savefig('bitscore.pdf')"
     ],
     "language": "python",
     "metadata": {},
     "outputs": [
      {
       "output_type": "display_data",
       "png": "[encoded data removed]"
      }
     ],
     "prompt_number": 90
    },
    {
     "cell_type": "markdown",
     "metadata": {},
     "source": [
      "###Total transcripts matched mouse proteins"
     ]
    },
    {
     "cell_type": "code",
     "collapsed": false,
     "input": [
      "print \"%d or %.2f%%\" % (len(isoform_bits), len(isoform_bits)/42459.0 * 100)"
     ],
     "language": "python",
     "metadata": {},
     "outputs": [
      {
       "output_type": "stream",
       "stream": "stdout",
       "text": [
        "26931 or 63.43%\n"
       ]
      }
     ],
     "prompt_number": 212
    },
    {
     "cell_type": "markdown",
     "metadata": {},
     "source": [
      "Building gene models using Cufflinks\n",
      "------------------------------------"
     ]
    },
    {
     "cell_type": "markdown",
     "metadata": {},
     "source": [
      "Run Cufflinks2 for all datasets."
     ]
    },
    {
     "cell_type": "markdown",
     "metadata": {},
     "source": [
      "__$ cufflinks -p 4 -o line6u_single_trimmed_chick3_cufflinks line6u_single_trimmed_chick3/accepted_hits.bam__\n",
      "\n",
      "__...__"
     ]
    },
    {
     "cell_type": "markdown",
     "metadata": {},
     "source": [
      "Merge all models using cuffmerge."
     ]
    },
    {
     "cell_type": "markdown",
     "metadata": {},
     "source": [
      "__$ cuffmerge -o merged_again -s ~/chick.fa -p 8 assembly_GTF_lists.txt__"
     ]
    },
    {
     "cell_type": "code",
     "collapsed": false,
     "input": [
      "!head assembly_GTF_lists.txt"
     ],
     "language": "python",
     "metadata": {},
     "outputs": [
      {
       "output_type": "stream",
       "stream": "stdout",
       "text": [
        "line6u_single_trimmed_chick3_cufflinks/transcripts.gtf\r\n",
        "line6i_single_trimmed_chick3_cufflinks/transcripts.gtf\r\n",
        "line7u_single_trimmed_chick3_cufflinks/transcripts.gtf\r\n",
        "line7i_single_trimmed_chick3_cufflinks/transcripts.gtf\r\n"
       ]
      }
     ],
     "prompt_number": 4
    },
    {
     "cell_type": "markdown",
     "metadata": {},
     "source": [
      "##Gene models summary"
     ]
    },
    {
     "cell_type": "markdown",
     "metadata": {},
     "source": [
      "###Number of genes and isoforms"
     ]
    },
    {
     "cell_type": "code",
     "collapsed": false,
     "input": [
      "!python /Users/Likit/gimme/src/utils/countGenes.py gimme.global.models.filtered.noE64ran.bed"
     ],
     "language": "python",
     "metadata": {},
     "outputs": [
      {
       "output_type": "stream",
       "stream": "stdout",
       "text": [
        "Total genes = 14703\r\n",
        "Total isoforms = 28406\r\n"
       ]
      }
     ],
     "prompt_number": 136
    },
    {
     "cell_type": "code",
     "collapsed": false,
     "input": [
      "!python /Users/Likit/gimme/src/utils/countGenes.py gimme.local.models.filtered.noE64ran.bed"
     ],
     "language": "python",
     "metadata": {},
     "outputs": [
      {
       "output_type": "stream",
       "stream": "stdout",
       "text": [
        "Total genes = 14931\r\n",
        "Total isoforms = 22127\r\n"
       ]
      }
     ],
     "prompt_number": 138
    },
    {
     "cell_type": "code",
     "collapsed": false,
     "input": [
      "!python /Users/Likit/gimme/src/utils/countGenes.py gimme.models.filtered.noE64ran.bed"
     ],
     "language": "python",
     "metadata": {},
     "outputs": [
      {
       "output_type": "stream",
       "stream": "stdout",
       "text": [
        "Total genes = 15411\r\n",
        "Total isoforms = 35598\r\n"
       ]
      }
     ],
     "prompt_number": 139
    },
    {
     "cell_type": "code",
     "collapsed": false,
     "input": [
      "!python /Users/Likit/gimme/src/utils/countGenes.py cufflinks.models.bed"
     ],
     "language": "python",
     "metadata": {},
     "outputs": [
      {
       "output_type": "stream",
       "stream": "stdout",
       "text": [
        "Total genes = 25318\r\n",
        "Total isoforms = 34959\r\n"
       ]
      }
     ],
     "prompt_number": 140
    },
    {
     "cell_type": "code",
     "collapsed": false,
     "input": [
      "!python /Users/Likit/gimme/src/utils/countGenes.py Gallus_gallus.WASHUC2.64.fixed.bed"
     ],
     "language": "python",
     "metadata": {},
     "outputs": [
      {
       "output_type": "stream",
       "stream": "stdout",
       "text": [
        "Total genes = 17934\r\n",
        "Total isoforms = 23392\r\n"
       ]
      }
     ],
     "prompt_number": 141
    },
    {
     "cell_type": "code",
     "collapsed": false,
     "input": [
      "!python /Users/Likit/gimme/src/utils/countGenes.py models.asm-cufflinks-hybrid.filtered.noE64ran.bed"
     ],
     "language": "python",
     "metadata": {},
     "outputs": [
      {
       "output_type": "stream",
       "stream": "stdout",
       "text": [
        "Total genes = 16445\r\n",
        "Total isoforms = 53296\r\n"
       ]
      }
     ],
     "prompt_number": 142
    },
    {
     "cell_type": "markdown",
     "metadata": {},
     "source": [
      "##Comparison of Cufflinks and Gimme to Ensembl\n",
      "\n",
      "Note, matched genes contain at least one isoform that match an Ensembl isoform with 90% identity and 80% coverage."
     ]
    },
    {
     "cell_type": "code",
     "collapsed": false,
     "input": [
      "cuffgenes = !python /Users/Likit/gimme/src/utils/find_match.py Gallus_gallus.WASHUC2.64.fixed.bed cufflinks.ens64.blast9.txt"
     ],
     "language": "python",
     "metadata": {},
     "outputs": [],
     "prompt_number": 148
    },
    {
     "cell_type": "code",
     "collapsed": false,
     "input": [
      "gimmegenes = !python /Users/Likit/gimme/src/utils/find_match.py Gallus_gallus.WASHUC2.64.fixed.bed gimme.models.ens64.blast9.txt"
     ],
     "language": "python",
     "metadata": {},
     "outputs": [],
     "prompt_number": 149
    },
    {
     "cell_type": "code",
     "collapsed": false,
     "input": [
      "print \"Gimme detects %d Ensembl genes. Cufflinks detects %d genes\" % (len(gimmegenes), len(cuffgenes))"
     ],
     "language": "python",
     "metadata": {},
     "outputs": [
      {
       "output_type": "stream",
       "stream": "stdout",
       "text": [
        "Gimme detects 7046 Ensembl genes. Cufflinks detects 8341 genes\n"
       ]
      }
     ],
     "prompt_number": 318
    },
    {
     "cell_type": "code",
     "collapsed": false,
     "input": [
      "gimmegenes = set(gimmegenes)\n",
      "cuffgenes = set(cuffgenes)\n",
      "gimme_cuff_genes = gimmegenes.intersection(cuffgenes)"
     ],
     "language": "python",
     "metadata": {},
     "outputs": [],
     "prompt_number": 154
    },
    {
     "cell_type": "code",
     "collapsed": false,
     "input": [
      "print \"Both Gimme and Cufflinks detect %d Ensembl genes\" % len(gimme_cuff_genes)"
     ],
     "language": "python",
     "metadata": {},
     "outputs": [
      {
       "output_type": "stream",
       "stream": "stdout",
       "text": [
        "Both Gimme and Cufflinks detect 6572 Ensembl genes\n"
       ]
      }
     ],
     "prompt_number": 165
    },
    {
     "cell_type": "code",
     "collapsed": false,
     "input": [
      "def get_matched_transcripts(gene_lists, blast9_file):\n",
      "    '''Reads gene models in Blast9 format and see if an isoform\n",
      "matches a gene in gene_lists, if so save it to a list.\n",
      "After that, it reads gene models in BED format and save only\n",
      "transcripts in a list to an output file.\n",
      "'''\n",
      "    trans_list = []\n",
      "    for line in open(blast9_file):\n",
      "        if line.startswith('#'):\n",
      "            continue\n",
      "        cols = line.strip().split('\\t')\n",
      "        query_id = cols[0]\n",
      "        gene_id = cols[1].split('.')[0]\n",
      "        if gene_id in gene_lists:\n",
      "            trans_list.append(query_id)\n",
      "    return set(trans_list)\n",
      "\n",
      "def extract_transcript_from_list(trans_list, bed_file, output):\n",
      "    for line in open(bed_file):\n",
      "        trans_id = line.strip().split('\\t')[3]\n",
      "        if trans_id in trans_list:\n",
      "            print >> output, line.strip()"
     ],
     "language": "python",
     "metadata": {},
     "outputs": [],
     "prompt_number": 184
    },
    {
     "cell_type": "code",
     "collapsed": false,
     "input": [
      "op = open('gimme.models.ens64.matched.bed', 'w')\n",
      "trans_list = get_matched_transcripts(gimme_cuff_genes, 'gimme.models.ens64.blast9.txt')\n",
      "extract_transcript_from_list(trans_list, 'gimme.models.filtered.noE64ran.bed', op)\n",
      "op.close()"
     ],
     "language": "python",
     "metadata": {},
     "outputs": [],
     "prompt_number": 181
    },
    {
     "cell_type": "code",
     "collapsed": false,
     "input": [
      "op = open('cufflinks.ens64.matched.bed', 'w')\n",
      "trans_list = get_matched_transcripts(gimme_cuff_genes, 'cufflinks.ens64.blast9.txt')\n",
      "extract_transcript_from_list(trans_list, 'cufflinks.models.bed', op)\n",
      "op.close()"
     ],
     "language": "python",
     "metadata": {},
     "outputs": [],
     "prompt_number": 186
    },
    {
     "cell_type": "code",
     "collapsed": false,
     "input": [
      "!python /Users/Likit/gimme/src/utils/compare_junction.py --all -b cufflinks.ens64.matched.bed\n",
      "!python /Users/Likit/gimme/src/utils/compare_junction.py --all -b gimme.models.ens64.matched.bed\n",
      "cuff_ens_jnct = !cat cufflinks.ens64.matched.bed_all_sp.txt\n",
      "gimme_ens_jnct = !cat gimme.models.ens64.matched.bed_all_sp.txt\n",
      "cuff_ens_jnct = set(cuff_ens_jnct)\n",
      "gimme_ens_jnct = set(gimme_ens_jnct)"
     ],
     "language": "python",
     "metadata": {},
     "outputs": [
      {
       "output_type": "stream",
       "stream": "stdout",
       "text": [
        "Parsing alignment from cufflinks.ens64.matched.bed ...\r\n"
       ]
      },
      {
       "output_type": "stream",
       "stream": "stdout",
       "text": [
        "... 1000\r\n"
       ]
      },
      {
       "output_type": "stream",
       "stream": "stdout",
       "text": [
        "... 2000\r\n"
       ]
      },
      {
       "output_type": "stream",
       "stream": "stdout",
       "text": [
        "... 3000\r\n"
       ]
      },
      {
       "output_type": "stream",
       "stream": "stdout",
       "text": [
        "... 4000\r\n"
       ]
      },
      {
       "output_type": "stream",
       "stream": "stdout",
       "text": [
        "... 5000\r\n"
       ]
      },
      {
       "output_type": "stream",
       "stream": "stdout",
       "text": [
        "... 6000\r\n"
       ]
      },
      {
       "output_type": "stream",
       "stream": "stdout",
       "text": [
        "... 7000\r\n"
       ]
      },
      {
       "output_type": "stream",
       "stream": "stdout",
       "text": [
        "... 8000\r\n"
       ]
      },
      {
       "output_type": "stream",
       "stream": "stdout",
       "text": [
        "... 9000\r\n"
       ]
      },
      {
       "output_type": "stream",
       "stream": "stdout",
       "text": [
        "... 10000\r\n"
       ]
      },
      {
       "output_type": "stream",
       "stream": "stdout",
       "text": [
        "... 11000\r\n"
       ]
      },
      {
       "output_type": "stream",
       "stream": "stdout",
       "text": [
        "... 12000\r\n"
       ]
      },
      {
       "output_type": "stream",
       "stream": "stdout",
       "text": [
        "... 13000\r\n"
       ]
      },
      {
       "output_type": "stream",
       "stream": "stdout",
       "text": [
        "... 14000\r\n"
       ]
      },
      {
       "output_type": "stream",
       "stream": "stdout",
       "text": [
        "... 15000\r\n"
       ]
      },
      {
       "output_type": "stream",
       "stream": "stdout",
       "text": [
        "... 16000\r\n",
        "Total introns in cufflinks.ens64.matched.bed = 73316\r\n",
        "\r\n"
       ]
      },
      {
       "output_type": "stream",
       "stream": "stdout",
       "text": [
        "Parsing alignment from gimme.models.ens64.matched.bed ...\r\n"
       ]
      },
      {
       "output_type": "stream",
       "stream": "stdout",
       "text": [
        "... 1000\r\n"
       ]
      },
      {
       "output_type": "stream",
       "stream": "stdout",
       "text": [
        "... 2000\r\n"
       ]
      },
      {
       "output_type": "stream",
       "stream": "stdout",
       "text": [
        "... 3000\r\n"
       ]
      },
      {
       "output_type": "stream",
       "stream": "stdout",
       "text": [
        "... 4000\r\n"
       ]
      },
      {
       "output_type": "stream",
       "stream": "stdout",
       "text": [
        "... 5000\r\n"
       ]
      },
      {
       "output_type": "stream",
       "stream": "stdout",
       "text": [
        "... 6000\r\n"
       ]
      },
      {
       "output_type": "stream",
       "stream": "stdout",
       "text": [
        "... 7000\r\n"
       ]
      },
      {
       "output_type": "stream",
       "stream": "stdout",
       "text": [
        "... 8000\r\n"
       ]
      },
      {
       "output_type": "stream",
       "stream": "stdout",
       "text": [
        "... 9000\r\n"
       ]
      },
      {
       "output_type": "stream",
       "stream": "stdout",
       "text": [
        "... 10000\r\n"
       ]
      },
      {
       "output_type": "stream",
       "stream": "stdout",
       "text": [
        "... 11000\r\n"
       ]
      },
      {
       "output_type": "stream",
       "stream": "stdout",
       "text": [
        "... 12000\r\n"
       ]
      },
      {
       "output_type": "stream",
       "stream": "stdout",
       "text": [
        "... 13000\r\n"
       ]
      },
      {
       "output_type": "stream",
       "stream": "stdout",
       "text": [
        "... 14000\r\n"
       ]
      },
      {
       "output_type": "stream",
       "stream": "stdout",
       "text": [
        "... 15000\r\n"
       ]
      },
      {
       "output_type": "stream",
       "stream": "stdout",
       "text": [
        "... 16000\r\n"
       ]
      },
      {
       "output_type": "stream",
       "stream": "stdout",
       "text": [
        "... 17000\r\n"
       ]
      },
      {
       "output_type": "stream",
       "stream": "stdout",
       "text": [
        "... 18000\r\n"
       ]
      },
      {
       "output_type": "stream",
       "stream": "stdout",
       "text": [
        "... 19000\r\n"
       ]
      },
      {
       "output_type": "stream",
       "stream": "stdout",
       "text": [
        "... 20000\r\n"
       ]
      },
      {
       "output_type": "stream",
       "stream": "stdout",
       "text": [
        "... 21000\r\n"
       ]
      },
      {
       "output_type": "stream",
       "stream": "stdout",
       "text": [
        "... 22000\r\n"
       ]
      },
      {
       "output_type": "stream",
       "stream": "stdout",
       "text": [
        "... 23000\r\n"
       ]
      },
      {
       "output_type": "stream",
       "stream": "stdout",
       "text": [
        "... 24000\r\n"
       ]
      },
      {
       "output_type": "stream",
       "stream": "stdout",
       "text": [
        "Total introns in gimme.models.ens64.matched.bed = 70259\r\n",
        "\r\n"
       ]
      }
     ],
     "prompt_number": 191
    },
    {
     "cell_type": "code",
     "collapsed": false,
     "input": [
      "print \"Cufflinks found %d splice junctions in matched genes\" % len(cuff_ens_jnct.intersection(ensbljnc))\n",
      "print \"Gimme found %d splice junctions in matched genes\" % len(gimme_ens_jnct.intersection(ensbljnc))"
     ],
     "language": "python",
     "metadata": {},
     "outputs": [
      {
       "output_type": "stream",
       "stream": "stdout",
       "text": [
        "Cufflinks found 62101 splice junctions in matched genes\n",
        "Gimme found 57437 splice junctions in matched genes\n"
       ]
      }
     ],
     "prompt_number": 195
    },
    {
     "cell_type": "code",
     "collapsed": false,
     "input": [
      "gimme_ens_jnct_diff = gimme_ens_jnct.difference(ensbljnc)\n",
      "cuff_ens_jnct_diff = cuff_ens_jnct.difference(ensbljnc)\n",
      "print \"Cufflinks found %d junctions not in Ensembl models but supported by ESTs\" % len(cuff_ens_jnct_diff.intersection(estjnc))\n",
      "print \"Gimme found %d junctions not in Ensembl models but supported by ESTs\" % len(gimme_ens_jnct_diff.intersection(estjnc))"
     ],
     "language": "python",
     "metadata": {},
     "outputs": [
      {
       "output_type": "stream",
       "stream": "stdout",
       "text": [
        "Cufflinks found 5011 junctions not in Ensembl models but supported by ESTs\n",
        "Gimme found 5683 junctions not in Ensembl models but supported by ESTs\n"
       ]
      }
     ],
     "prompt_number": 197
    },
    {
     "cell_type": "code",
     "collapsed": false,
     "input": [
      "cuff_gimme_ens_diff = cuff_ens_jnct_diff.difference(gimme_ens_jnct_diff)\n",
      "gimme_cuff_ens_diff = gimme_ens_jnct_diff.difference(cuff_ens_jnct_diff)\n",
      "print \"Cufflinks found %d junctions not in Gimme and Ensembl but in ESTs\" % len(cuff_gimme_ens_diff.intersection(estjnc))\n",
      "print \"Gimme found %d junctions not in Cufflinks and Ensembl but in ESTs\" % len(gimme_cuff_ens_diff.intersection(estjnc))"
     ],
     "language": "python",
     "metadata": {},
     "outputs": [
      {
       "output_type": "stream",
       "stream": "stdout",
       "text": [
        "Cufflinks found 1588 junctions not in Gimme and Ensembl but in ESTs\n",
        "Gimme found 2260 junctions not in Cufflinks and Ensembl but in ESTs\n"
       ]
      }
     ],
     "prompt_number": 203
    },
    {
     "cell_type": "markdown",
     "metadata": {},
     "source": [
      "Gene models built from Assembly, Cufflinks and mRNA sequences\n",
      "-------------------------------------------------------------"
     ]
    },
    {
     "cell_type": "markdown",
     "metadata": {},
     "source": [
      "__$ python gimme/src/gimme.py all_single_gl_gal3.models.filtered.bed merged.bed > assembly-cufflinks.models.bed__"
     ]
    },
    {
     "cell_type": "code",
     "collapsed": false,
     "input": [],
     "language": "python",
     "metadata": {},
     "outputs": []
    },
    {
     "cell_type": "markdown",
     "metadata": {},
     "source": [
      "##Oases-M vs Global Assembly"
     ]
    },
    {
     "cell_type": "markdown",
     "metadata": {},
     "source": [
      "Total splice junctions found in Oases-M assembly k=27."
     ]
    },
    {
     "cell_type": "markdown",
     "metadata": {},
     "source": [
      "__$ python /Users/Likit/gimme/src/utils/compare_junction.py --all -p line67_merged_global_k27.best.psl__"
     ]
    },
    {
     "cell_type": "code",
     "collapsed": false,
     "input": [
      "oasesM = !cat line67_merged_global_k27.best.psl_all_sp.txt\n",
      "oasesM = set(oasesM)"
     ],
     "language": "python",
     "metadata": {},
     "outputs": [],
     "prompt_number": 265
    },
    {
     "cell_type": "code",
     "collapsed": false,
     "input": [
      "global_asm = !cat line67_unmerged_global_k21-31.best.psl_all_sp.txt\n",
      "global_asm = set(global_asm)"
     ],
     "language": "python",
     "metadata": {},
     "outputs": [],
     "prompt_number": 267
    },
    {
     "cell_type": "code",
     "collapsed": false,
     "input": [
      "print \"Total splice junctions from Oases-M = %d\" % len(oasesM)"
     ],
     "language": "python",
     "metadata": {},
     "outputs": [
      {
       "output_type": "stream",
       "stream": "stdout",
       "text": [
        "Total splice junctions from Oases-M = 114336\n"
       ]
      }
     ],
     "prompt_number": 295
    },
    {
     "cell_type": "code",
     "collapsed": false,
     "input": [
      "print \"Total splice junctions from unmerged global assembly = %d\" % len(global_asm)"
     ],
     "language": "python",
     "metadata": {},
     "outputs": [
      {
       "output_type": "stream",
       "stream": "stdout",
       "text": [
        "Total splice junctions from unmerged global assembly = 115159\n"
       ]
      }
     ],
     "prompt_number": 296
    },
    {
     "cell_type": "code",
     "collapsed": false,
     "input": [
      "print \"Unique splice junctions from unmerged assembly = %d\" % len(global_asm.difference(oasesM))"
     ],
     "language": "python",
     "metadata": {},
     "outputs": [
      {
       "output_type": "stream",
       "stream": "stdout",
       "text": [
        "Unique splice junctions from unmerged assembly = 9558\n"
       ]
      }
     ],
     "prompt_number": 299
    },
    {
     "cell_type": "code",
     "collapsed": false,
     "input": [
      "print \"Unique splice junctions from Oases-M = %d\" % len(oasesM.difference(global_asm))"
     ],
     "language": "python",
     "metadata": {},
     "outputs": [
      {
       "output_type": "stream",
       "stream": "stdout",
       "text": [
        "Unique splice junctions from Oases-M = 8735\n"
       ]
      }
     ],
     "prompt_number": 300
    },
    {
     "cell_type": "code",
     "collapsed": false,
     "input": [
      "print \"Unique splice junctions supported by ESTs from unmerged assembly = %d\" % len(global_asm.difference(oasesM).intersection(estjnc))"
     ],
     "language": "python",
     "metadata": {},
     "outputs": [
      {
       "output_type": "stream",
       "stream": "stdout",
       "text": [
        "Unique splice junctions supported by ESTs from unmerged assembly = 1640\n"
       ]
      }
     ],
     "prompt_number": 297
    },
    {
     "cell_type": "code",
     "collapsed": false,
     "input": [
      "print \"Unique splice junctions supported by ESTs from Oases-M = %d\" % len(oasesM.difference(global_asm).intersection(estjnc))"
     ],
     "language": "python",
     "metadata": {},
     "outputs": [
      {
       "output_type": "stream",
       "stream": "stdout",
       "text": [
        "Unique splice junctions supported by ESTs from Oases-M = 447\n"
       ]
      }
     ],
     "prompt_number": 298
    },
    {
     "cell_type": "code",
     "collapsed": false,
     "input": [],
     "language": "python",
     "metadata": {},
     "outputs": []
    }
   ],
   "metadata": {}
  }
 ]
}